{
  "nbformat": 4,
  "nbformat_minor": 0,
  "metadata": {
    "colab": {
      "provenance": [],
      "authorship_tag": "ABX9TyPw+a5jNt+uurwxTipIlFax",
      "include_colab_link": true
    },
    "kernelspec": {
      "name": "python3",
      "display_name": "Python 3"
    },
    "language_info": {
      "name": "python"
    }
  },
  "cells": [
    {
      "cell_type": "markdown",
      "metadata": {
        "id": "view-in-github",
        "colab_type": "text"
      },
      "source": [
        "<a href=\"https://colab.research.google.com/github/mdhidayath1/AIML_BATCH_15/blob/main/4.ipynb\" target=\"_parent\"><img src=\"https://colab.research.google.com/assets/colab-badge.svg\" alt=\"Open In Colab\"/></a>"
      ]
    },
    {
      "cell_type": "code",
      "execution_count": null,
      "metadata": {
        "id": "6DBKEz4t5FnR"
      },
      "outputs": [],
      "source": []
    },
    {
      "cell_type": "markdown",
      "source": [
        "implement depth for search aglorithm\n"
      ],
      "metadata": {
        "id": "YJy_zG7-5HJg"
      }
    },
    {
      "cell_type": "code",
      "source": [
        "[] graph"
      ],
      "metadata": {
        "id": "R7RhA_b-5N-G"
      },
      "execution_count": null,
      "outputs": []
    }
  ]
}